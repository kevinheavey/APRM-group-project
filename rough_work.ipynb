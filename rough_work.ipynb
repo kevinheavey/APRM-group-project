{
 "cells": [
  {
   "cell_type": "code",
   "execution_count": 1,
   "metadata": {},
   "outputs": [],
   "source": [
    "import pyfolio_fork_aprm as pf"
   ]
  },
  {
   "cell_type": "code",
   "execution_count": 2,
   "metadata": {},
   "outputs": [],
   "source": [
    "import utils"
   ]
  },
  {
   "cell_type": "code",
   "execution_count": 3,
   "metadata": {},
   "outputs": [],
   "source": [
    "import empyrical as ep\n",
    "import scipy"
   ]
  },
  {
   "cell_type": "code",
   "execution_count": 83,
   "metadata": {},
   "outputs": [],
   "source": [
    "import pandas as pd\n",
    "import statsmodels.formula.api as smf\n",
    "from statsmodels.iolib.summary2 import summary_col\n",
    "import seaborn as sns\n",
    "import numpy as np\n",
    "import matplotlib.pyplot as plt\n",
    "%matplotlib inline"
   ]
  },
  {
   "cell_type": "code",
   "execution_count": 263,
   "metadata": {},
   "outputs": [],
   "source": [
    "returns_df = utils.get_returns_df()"
   ]
  },
  {
   "cell_type": "code",
   "execution_count": 11,
   "metadata": {},
   "outputs": [],
   "source": [
    "rf = utils.get_risk_free_returns_series(returns_df)"
   ]
  },
  {
   "cell_type": "code",
   "execution_count": 59,
   "metadata": {},
   "outputs": [],
   "source": [
    "ff = ep.utils.load_portfolio_risk_factors(start=returns_df.index[0], end=returns_df.index[-1])"
   ]
  },
  {
   "cell_type": "code",
   "execution_count": 270,
   "metadata": {},
   "outputs": [
    {
     "data": {
      "text/plain": [
       "0.08000000000000008"
      ]
     },
     "execution_count": 270,
     "metadata": {},
     "output_type": "execute_result"
    }
   ],
   "source": [
    "a = 0.1\n",
    "b = 0.02\n",
    "1*(1+a-1-b)"
   ]
  },
  {
   "cell_type": "code",
   "execution_count": 50,
   "metadata": {},
   "outputs": [],
   "source": [
    "# All measures are calculated using daily returns data, and are not annualised unless explicitly stated"
   ]
  },
  {
   "cell_type": "code",
   "execution_count": 7,
   "metadata": {},
   "outputs": [
    {
     "name": "stdout",
     "output_type": "stream",
     "text": [
      "0.11028980397350972\n"
     ]
    },
    {
     "data": {
      "text/plain": [
       "0.11028980397350972"
      ]
     },
     "execution_count": 7,
     "metadata": {},
     "output_type": "execute_result"
    }
   ],
   "source": [
    "# check equal to downside risk from empyrical\n",
    "print(np.sqrt(utils.lpm(returns, target_rate=0, order=2)) * np.sqrt(252))\n",
    "downside_risk_annualised = ep.downside_risk(returns)\n",
    "downside_risk_annualised"
   ]
  },
  {
   "cell_type": "code",
   "execution_count": 260,
   "metadata": {
    "scrolled": true
   },
   "outputs": [],
   "source": [
    "from importlib import reload\n",
    "reload(utils)\n",
    "import utils"
   ]
  },
  {
   "cell_type": "code",
   "execution_count": 261,
   "metadata": {},
   "outputs": [],
   "source": [
    "utils.main()"
   ]
  },
  {
   "cell_type": "code",
   "execution_count": 203,
   "metadata": {},
   "outputs": [],
   "source": [
    "x = utils.get_full_perf_stats_df(returns_df.dropna(), utils.get_funds_list(), \n",
    "                                 utils.get_risk_free_returns_series(returns_df.dropna()), numeric=True)"
   ]
  },
  {
   "cell_type": "code",
   "execution_count": 204,
   "metadata": {},
   "outputs": [
    {
     "data": {
      "text/html": [
       "<div>\n",
       "<style scoped>\n",
       "    .dataframe tbody tr th:only-of-type {\n",
       "        vertical-align: middle;\n",
       "    }\n",
       "\n",
       "    .dataframe tbody tr th {\n",
       "        vertical-align: top;\n",
       "    }\n",
       "\n",
       "    .dataframe thead tr th {\n",
       "        text-align: left;\n",
       "    }\n",
       "</style>\n",
       "<table border=\"1\" class=\"dataframe\">\n",
       "  <thead>\n",
       "    <tr>\n",
       "      <th></th>\n",
       "      <th colspan=\"5\" halign=\"left\">Active</th>\n",
       "      <th colspan=\"3\" halign=\"left\">Passive</th>\n",
       "    </tr>\n",
       "    <tr>\n",
       "      <th></th>\n",
       "      <th>JFUAX</th>\n",
       "      <th>JLCAX</th>\n",
       "      <th>JDEAX</th>\n",
       "      <th>OEIAX</th>\n",
       "      <th>JFTAX</th>\n",
       "      <th>BWIIX</th>\n",
       "      <th>BSPIX</th>\n",
       "      <th>MAIIX</th>\n",
       "    </tr>\n",
       "  </thead>\n",
       "  <tbody>\n",
       "    <tr>\n",
       "      <th>Annual return</th>\n",
       "      <td>4.1%</td>\n",
       "      <td>6.7%</td>\n",
       "      <td>6.1%</td>\n",
       "      <td>3.7%</td>\n",
       "      <td>3.4%</td>\n",
       "      <td>6.8%</td>\n",
       "      <td>9.0%</td>\n",
       "      <td>3.8%</td>\n",
       "    </tr>\n",
       "    <tr>\n",
       "      <th>Cumulative returns</th>\n",
       "      <td>12.5%</td>\n",
       "      <td>20.9%</td>\n",
       "      <td>19.0%</td>\n",
       "      <td>11.2%</td>\n",
       "      <td>10.4%</td>\n",
       "      <td>21.2%</td>\n",
       "      <td>29.0%</td>\n",
       "      <td>11.7%</td>\n",
       "    </tr>\n",
       "    <tr>\n",
       "      <th>Volatility (annualised)</th>\n",
       "      <td>15.5%</td>\n",
       "      <td>14.8%</td>\n",
       "      <td>13.7%</td>\n",
       "      <td>14.6%</td>\n",
       "      <td>14.4%</td>\n",
       "      <td>14.3%</td>\n",
       "      <td>12.9%</td>\n",
       "      <td>14.2%</td>\n",
       "    </tr>\n",
       "    <tr>\n",
       "      <th>Sharpe ratio (annualised)</th>\n",
       "      <td>0.336443</td>\n",
       "      <td>0.509836</td>\n",
       "      <td>0.498004</td>\n",
       "      <td>0.319492</td>\n",
       "      <td>0.304541</td>\n",
       "      <td>0.530037</td>\n",
       "      <td>0.734783</td>\n",
       "      <td>0.337184</td>\n",
       "    </tr>\n",
       "    <tr>\n",
       "      <th>Stability</th>\n",
       "      <td>0.66004</td>\n",
       "      <td>0.798713</td>\n",
       "      <td>0.787487</td>\n",
       "      <td>0.599041</td>\n",
       "      <td>0.561595</td>\n",
       "      <td>0.813784</td>\n",
       "      <td>0.894696</td>\n",
       "      <td>0.591192</td>\n",
       "    </tr>\n",
       "    <tr>\n",
       "      <th>Drawdown</th>\n",
       "      <td>0.103982</td>\n",
       "      <td>0.116771</td>\n",
       "      <td>0.115225</td>\n",
       "      <td>0.114443</td>\n",
       "      <td>0.112572</td>\n",
       "      <td>0.0962513</td>\n",
       "      <td>0.111037</td>\n",
       "      <td>0.104878</td>\n",
       "    </tr>\n",
       "    <tr>\n",
       "      <th>Omega ratio (annualised)</th>\n",
       "      <td>1.065</td>\n",
       "      <td>1.10197</td>\n",
       "      <td>1.10093</td>\n",
       "      <td>1.06275</td>\n",
       "      <td>1.05932</td>\n",
       "      <td>1.11569</td>\n",
       "      <td>1.1526</td>\n",
       "      <td>1.0658</td>\n",
       "    </tr>\n",
       "    <tr>\n",
       "      <th>Sortino ratio (annualised)</th>\n",
       "      <td>0.455817</td>\n",
       "      <td>0.697743</td>\n",
       "      <td>0.682559</td>\n",
       "      <td>0.424591</td>\n",
       "      <td>0.401349</td>\n",
       "      <td>0.747288</td>\n",
       "      <td>1.01463</td>\n",
       "      <td>0.448962</td>\n",
       "    </tr>\n",
       "    <tr>\n",
       "      <th>Skew</th>\n",
       "      <td>-0.800905</td>\n",
       "      <td>-0.702782</td>\n",
       "      <td>-0.659917</td>\n",
       "      <td>-1.64646</td>\n",
       "      <td>-1.72655</td>\n",
       "      <td>0.0611801</td>\n",
       "      <td>-0.700693</td>\n",
       "      <td>-1.4933</td>\n",
       "    </tr>\n",
       "    <tr>\n",
       "      <th>Kurtosis</th>\n",
       "      <td>4.72409</td>\n",
       "      <td>4.2394</td>\n",
       "      <td>4.15374</td>\n",
       "      <td>15.3258</td>\n",
       "      <td>15.548</td>\n",
       "      <td>19.2716</td>\n",
       "      <td>4.56806</td>\n",
       "      <td>12.8741</td>\n",
       "    </tr>\n",
       "    <tr>\n",
       "      <th>Tail ratio</th>\n",
       "      <td>0.907464</td>\n",
       "      <td>0.947727</td>\n",
       "      <td>0.945011</td>\n",
       "      <td>0.916941</td>\n",
       "      <td>0.892874</td>\n",
       "      <td>0.918808</td>\n",
       "      <td>0.99528</td>\n",
       "      <td>0.964445</td>\n",
       "    </tr>\n",
       "    <tr>\n",
       "      <th>Value at risk</th>\n",
       "      <td>-1.9%</td>\n",
       "      <td>-1.8%</td>\n",
       "      <td>-1.7%</td>\n",
       "      <td>-1.8%</td>\n",
       "      <td>-1.8%</td>\n",
       "      <td>-1.8%</td>\n",
       "      <td>-1.6%</td>\n",
       "      <td>-1.8%</td>\n",
       "    </tr>\n",
       "    <tr>\n",
       "      <th>Alpha (annualised)</th>\n",
       "      <td>-0.0386867</td>\n",
       "      <td>-0.0320301</td>\n",
       "      <td>-0.0326847</td>\n",
       "      <td>0.00371471</td>\n",
       "      <td>0.00152506</td>\n",
       "      <td>0.000340213</td>\n",
       "      <td>-0.000797271</td>\n",
       "      <td>0.0060883</td>\n",
       "    </tr>\n",
       "    <tr>\n",
       "      <th>Beta</th>\n",
       "      <td>1.23556</td>\n",
       "      <td>1.12053</td>\n",
       "      <td>1.05291</td>\n",
       "      <td>0.834818</td>\n",
       "      <td>0.824349</td>\n",
       "      <td>1.0232</td>\n",
       "      <td>0.997661</td>\n",
       "      <td>0.811478</td>\n",
       "    </tr>\n",
       "    <tr>\n",
       "      <th>Burke ratio (annualised)</th>\n",
       "      <td>0.661159</td>\n",
       "      <td>0.942313</td>\n",
       "      <td>0.894034</td>\n",
       "      <td>0.58031</td>\n",
       "      <td>0.559593</td>\n",
       "      <td>1.11151</td>\n",
       "      <td>1.36471</td>\n",
       "      <td>0.62877</td>\n",
       "    </tr>\n",
       "    <tr>\n",
       "      <th>Expected shortfall</th>\n",
       "      <td>0.0065211</td>\n",
       "      <td>0.00589654</td>\n",
       "      <td>0.00542293</td>\n",
       "      <td>0.00584396</td>\n",
       "      <td>0.00593164</td>\n",
       "      <td>0.0052526</td>\n",
       "      <td>0.00520712</td>\n",
       "      <td>0.00568283</td>\n",
       "    </tr>\n",
       "    <tr>\n",
       "      <th>Information ratio (annualised)</th>\n",
       "      <td>-0.303974</td>\n",
       "      <td>-0.604822</td>\n",
       "      <td>-1.54337</td>\n",
       "      <td>-0.0499797</td>\n",
       "      <td>-0.0790386</td>\n",
       "      <td>0.0248767</td>\n",
       "      <td>-0.249404</td>\n",
       "      <td>-0.0385192</td>\n",
       "    </tr>\n",
       "    <tr>\n",
       "      <th>Kappa 1</th>\n",
       "      <td>-0.0650026</td>\n",
       "      <td>-0.101971</td>\n",
       "      <td>-0.100935</td>\n",
       "      <td>-0.06275</td>\n",
       "      <td>-0.0593175</td>\n",
       "      <td>-0.11569</td>\n",
       "      <td>-0.152599</td>\n",
       "      <td>-0.0657972</td>\n",
       "    </tr>\n",
       "    <tr>\n",
       "      <th>Kappa 3</th>\n",
       "      <td>-0.0186396</td>\n",
       "      <td>-0.0285772</td>\n",
       "      <td>-0.028</td>\n",
       "      <td>-0.0155736</td>\n",
       "      <td>-0.0147506</td>\n",
       "      <td>-0.0285774</td>\n",
       "      <td>-0.0411622</td>\n",
       "      <td>-0.0167945</td>\n",
       "    </tr>\n",
       "    <tr>\n",
       "      <th>Return on prob. of shortfall (annualised)</th>\n",
       "      <td>0.10682</td>\n",
       "      <td>0.151522</td>\n",
       "      <td>0.137935</td>\n",
       "      <td>0.0924105</td>\n",
       "      <td>0.0886662</td>\n",
       "      <td>0.153134</td>\n",
       "      <td>0.200239</td>\n",
       "      <td>0.0942264</td>\n",
       "    </tr>\n",
       "    <tr>\n",
       "      <th>Return on value at risk</th>\n",
       "      <td>0.0117812</td>\n",
       "      <td>0.0190456</td>\n",
       "      <td>0.0184729</td>\n",
       "      <td>0.0120567</td>\n",
       "      <td>0.0116104</td>\n",
       "      <td>0.0217075</td>\n",
       "      <td>0.0275266</td>\n",
       "      <td>0.0131391</td>\n",
       "    </tr>\n",
       "    <tr>\n",
       "      <th>Shortfall risk</th>\n",
       "      <td>0.487871</td>\n",
       "      <td>0.498652</td>\n",
       "      <td>0.495957</td>\n",
       "      <td>0.505391</td>\n",
       "      <td>0.495957</td>\n",
       "      <td>0.493261</td>\n",
       "      <td>0.474394</td>\n",
       "      <td>0.508086</td>\n",
       "    </tr>\n",
       "    <tr>\n",
       "      <th>Sterling ratio (annualised)</th>\n",
       "      <td>0.719893</td>\n",
       "      <td>1.03345</td>\n",
       "      <td>0.999594</td>\n",
       "      <td>0.645439</td>\n",
       "      <td>0.625793</td>\n",
       "      <td>1.22371</td>\n",
       "      <td>1.55106</td>\n",
       "      <td>0.696456</td>\n",
       "    </tr>\n",
       "    <tr>\n",
       "      <th>Treynor ratio (annualised)</th>\n",
       "      <td>0.0421786</td>\n",
       "      <td>0.0674293</td>\n",
       "      <td>0.0649719</td>\n",
       "      <td>0.0559444</td>\n",
       "      <td>0.0533447</td>\n",
       "      <td>0.0738221</td>\n",
       "      <td>0.0952149</td>\n",
       "      <td>0.0589974</td>\n",
       "    </tr>\n",
       "    <tr>\n",
       "      <th>root(lpm(0,2)) (annualised)</th>\n",
       "      <td>0.114332</td>\n",
       "      <td>0.108287</td>\n",
       "      <td>0.100225</td>\n",
       "      <td>0.109996</td>\n",
       "      <td>0.109567</td>\n",
       "      <td>0.101079</td>\n",
       "      <td>0.0936226</td>\n",
       "      <td>0.106635</td>\n",
       "    </tr>\n",
       "  </tbody>\n",
       "</table>\n",
       "</div>"
      ],
      "text/plain": [
       "                                              Active                          \\\n",
       "                                               JFUAX       JLCAX       JDEAX   \n",
       "Annual return                                   4.1%        6.7%        6.1%   \n",
       "Cumulative returns                             12.5%       20.9%       19.0%   \n",
       "Volatility (annualised)                        15.5%       14.8%       13.7%   \n",
       "Sharpe ratio (annualised)                   0.336443    0.509836    0.498004   \n",
       "Stability                                    0.66004    0.798713    0.787487   \n",
       "Drawdown                                    0.103982    0.116771    0.115225   \n",
       "Omega ratio (annualised)                       1.065     1.10197     1.10093   \n",
       "Sortino ratio (annualised)                  0.455817    0.697743    0.682559   \n",
       "Skew                                       -0.800905   -0.702782   -0.659917   \n",
       "Kurtosis                                     4.72409      4.2394     4.15374   \n",
       "Tail ratio                                  0.907464    0.947727    0.945011   \n",
       "Value at risk                                  -1.9%       -1.8%       -1.7%   \n",
       "Alpha (annualised)                        -0.0386867  -0.0320301  -0.0326847   \n",
       "Beta                                         1.23556     1.12053     1.05291   \n",
       "Burke ratio (annualised)                    0.661159    0.942313    0.894034   \n",
       "Expected shortfall                         0.0065211  0.00589654  0.00542293   \n",
       "Information ratio (annualised)             -0.303974   -0.604822    -1.54337   \n",
       "Kappa 1                                   -0.0650026   -0.101971   -0.100935   \n",
       "Kappa 3                                   -0.0186396  -0.0285772      -0.028   \n",
       "Return on prob. of shortfall (annualised)    0.10682    0.151522    0.137935   \n",
       "Return on value at risk                    0.0117812   0.0190456   0.0184729   \n",
       "Shortfall risk                              0.487871    0.498652    0.495957   \n",
       "Sterling ratio (annualised)                 0.719893     1.03345    0.999594   \n",
       "Treynor ratio (annualised)                 0.0421786   0.0674293   0.0649719   \n",
       "root(lpm(0,2)) (annualised)                 0.114332    0.108287    0.100225   \n",
       "\n",
       "                                                                   \\\n",
       "                                                OEIAX       JFTAX   \n",
       "Annual return                                    3.7%        3.4%   \n",
       "Cumulative returns                              11.2%       10.4%   \n",
       "Volatility (annualised)                         14.6%       14.4%   \n",
       "Sharpe ratio (annualised)                    0.319492    0.304541   \n",
       "Stability                                    0.599041    0.561595   \n",
       "Drawdown                                     0.114443    0.112572   \n",
       "Omega ratio (annualised)                      1.06275     1.05932   \n",
       "Sortino ratio (annualised)                   0.424591    0.401349   \n",
       "Skew                                         -1.64646    -1.72655   \n",
       "Kurtosis                                      15.3258      15.548   \n",
       "Tail ratio                                   0.916941    0.892874   \n",
       "Value at risk                                   -1.8%       -1.8%   \n",
       "Alpha (annualised)                         0.00371471  0.00152506   \n",
       "Beta                                         0.834818    0.824349   \n",
       "Burke ratio (annualised)                      0.58031    0.559593   \n",
       "Expected shortfall                         0.00584396  0.00593164   \n",
       "Information ratio (annualised)             -0.0499797  -0.0790386   \n",
       "Kappa 1                                      -0.06275  -0.0593175   \n",
       "Kappa 3                                    -0.0155736  -0.0147506   \n",
       "Return on prob. of shortfall (annualised)   0.0924105   0.0886662   \n",
       "Return on value at risk                     0.0120567   0.0116104   \n",
       "Shortfall risk                               0.505391    0.495957   \n",
       "Sterling ratio (annualised)                  0.645439    0.625793   \n",
       "Treynor ratio (annualised)                  0.0559444   0.0533447   \n",
       "root(lpm(0,2)) (annualised)                  0.109996    0.109567   \n",
       "\n",
       "                                               Passive               \\\n",
       "                                                 BWIIX        BSPIX   \n",
       "Annual return                                     6.8%         9.0%   \n",
       "Cumulative returns                               21.2%        29.0%   \n",
       "Volatility (annualised)                          14.3%        12.9%   \n",
       "Sharpe ratio (annualised)                     0.530037     0.734783   \n",
       "Stability                                     0.813784     0.894696   \n",
       "Drawdown                                     0.0962513     0.111037   \n",
       "Omega ratio (annualised)                       1.11569       1.1526   \n",
       "Sortino ratio (annualised)                    0.747288      1.01463   \n",
       "Skew                                         0.0611801    -0.700693   \n",
       "Kurtosis                                       19.2716      4.56806   \n",
       "Tail ratio                                    0.918808      0.99528   \n",
       "Value at risk                                    -1.8%        -1.6%   \n",
       "Alpha (annualised)                         0.000340213 -0.000797271   \n",
       "Beta                                            1.0232     0.997661   \n",
       "Burke ratio (annualised)                       1.11151      1.36471   \n",
       "Expected shortfall                           0.0052526   0.00520712   \n",
       "Information ratio (annualised)               0.0248767    -0.249404   \n",
       "Kappa 1                                       -0.11569    -0.152599   \n",
       "Kappa 3                                     -0.0285774   -0.0411622   \n",
       "Return on prob. of shortfall (annualised)     0.153134     0.200239   \n",
       "Return on value at risk                      0.0217075    0.0275266   \n",
       "Shortfall risk                                0.493261     0.474394   \n",
       "Sterling ratio (annualised)                    1.22371      1.55106   \n",
       "Treynor ratio (annualised)                   0.0738221    0.0952149   \n",
       "root(lpm(0,2)) (annualised)                   0.101079    0.0936226   \n",
       "\n",
       "                                                       \n",
       "                                                MAIIX  \n",
       "Annual return                                    3.8%  \n",
       "Cumulative returns                              11.7%  \n",
       "Volatility (annualised)                         14.2%  \n",
       "Sharpe ratio (annualised)                    0.337184  \n",
       "Stability                                    0.591192  \n",
       "Drawdown                                     0.104878  \n",
       "Omega ratio (annualised)                       1.0658  \n",
       "Sortino ratio (annualised)                   0.448962  \n",
       "Skew                                          -1.4933  \n",
       "Kurtosis                                      12.8741  \n",
       "Tail ratio                                   0.964445  \n",
       "Value at risk                                   -1.8%  \n",
       "Alpha (annualised)                          0.0060883  \n",
       "Beta                                         0.811478  \n",
       "Burke ratio (annualised)                      0.62877  \n",
       "Expected shortfall                         0.00568283  \n",
       "Information ratio (annualised)             -0.0385192  \n",
       "Kappa 1                                    -0.0657972  \n",
       "Kappa 3                                    -0.0167945  \n",
       "Return on prob. of shortfall (annualised)   0.0942264  \n",
       "Return on value at risk                     0.0131391  \n",
       "Shortfall risk                               0.508086  \n",
       "Sterling ratio (annualised)                  0.696456  \n",
       "Treynor ratio (annualised)                  0.0589974  \n",
       "root(lpm(0,2)) (annualised)                  0.106635  "
      ]
     },
     "execution_count": 204,
     "metadata": {},
     "output_type": "execute_result"
    }
   ],
   "source": [
    "x"
   ]
  },
  {
   "cell_type": "code",
   "execution_count": 256,
   "metadata": {},
   "outputs": [
    {
     "name": "stderr",
     "output_type": "stream",
     "text": [
      "C:\\Users\\Kevin\\Anaconda3\\lib\\site-packages\\matplotlib\\axes\\_axes.py:6462: UserWarning: The 'normed' kwarg is deprecated, and has been replaced by the 'density' kwarg.\n",
      "  warnings.warn(\"The 'normed' kwarg is deprecated, and has been \"\n"
     ]
    },
    {
     "data": {
      "text/plain": [
       "<matplotlib.axes._subplots.AxesSubplot at 0x2b57676a470>"
      ]
     },
     "execution_count": 256,
     "metadata": {},
     "output_type": "execute_result"
    },
    {
     "data": {
      "image/png": "[encoded data removed]",
      "text/plain": [
       "<Figure size 432x288 with 1 Axes>"
      ]
     },
     "metadata": {},
     "output_type": "display_data"
    }
   ],
   "source": [
    "sns.distplot(returns_df['BWIIX'].pipe(np.log1p))\n",
    "sns.distplot(returns_df['BWIIX'].pipe(np.log1p), kde=False, fit=scipy.stats.norm)"
   ]
  },
  {
   "cell_type": "code",
   "execution_count": 10,
   "metadata": {},
   "outputs": [
    {
     "name": "stdout",
     "output_type": "stream",
     "text": [
      "0.21463775137041413\n"
     ]
    },
    {
     "data": {
      "text/plain": [
       "0.21463775137041413"
      ]
     },
     "execution_count": 10,
     "metadata": {},
     "output_type": "execute_result"
    }
   ],
   "source": [
    "print(returns.mean() * 252 / downside_risk_annualised)\n",
    "ep.sortino_ratio(returns)"
   ]
  },
  {
   "cell_type": "code",
   "execution_count": 11,
   "metadata": {},
   "outputs": [],
   "source": [
    "historical_5pct_VaR = returns.quantile(0.05)\n",
    "# this matches with empyrical but not with pyfolio, which returns a theoretical VaR by assuming a normal distribution"
   ]
  },
  {
   "cell_type": "code",
   "execution_count": 13,
   "metadata": {},
   "outputs": [
    {
     "name": "stdout",
     "output_type": "stream",
     "text": [
      "0.15012520798693332\n"
     ]
    },
    {
     "data": {
      "text/plain": [
       "0.15012520798693332"
      ]
     },
     "execution_count": 13,
     "metadata": {},
     "output_type": "execute_result"
    }
   ],
   "source": [
    "print((returns.mean() / returns.std()) * np.sqrt(252))\n",
    "ep.sharpe_ratio(returns)"
   ]
  }
 ],
 "metadata": {
  "kernelspec": {
   "display_name": "Python 3",
   "language": "python",
   "name": "python3"
  },
  "language_info": {
   "codemirror_mode": {
    "name": "ipython",
    "version": 3
   },
   "file_extension": ".py",
   "mimetype": "text/x-python",
   "name": "python",
   "nbconvert_exporter": "python",
   "pygments_lexer": "ipython3",
   "version": "3.6.4"
  },
  "toc": {
   "nav_menu": {},
   "number_sections": false,
   "sideBar": true,
   "skip_h1_title": false,
   "title_cell": "Table of Contents",
   "title_sidebar": "Contents",
   "toc_cell": false,
   "toc_position": {},
   "toc_section_display": true,
   "toc_window_display": false
  }
 },
 "nbformat": 4,
 "nbformat_minor": 2
}
