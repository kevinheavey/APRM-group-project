{
 "cells": [
  {
   "cell_type": "code",
   "execution_count": 136,
   "metadata": {},
   "outputs": [],
   "source": [
    "# TODO list out which measures require excess returns - seems to be everything except drawdown.\n",
    "# TODO include benchmark in multifactor FF regression -  actually this kind of already happens, it just isn't shown\n",
    "# TODO remove pyfolio VaR\n",
    "# TODO rename Sharpe to annual Sharpe - or replace with the one from utils (Sharpe perhaps shouldn)\n",
    "# TODO replace beta and alpha (appear to be wrong) - actually no the beta is the same and the alpha is annualised\n",
    "# TODO mark alpha as annualised\n",
    "# TODO watch out for his Burke ratio, he forgot to express his drawdowns in decimal form\n",
    "# TODO replace drawdown"
   ]
  },
  {
   "cell_type": "code",
   "execution_count": 2,
   "metadata": {},
   "outputs": [],
   "source": [
    "# note: pandas corrects for bias in skew and kurtosis, and by default subtracts 3 from kurtosis (so it's excess kurtosis)"
   ]
  },
  {
   "cell_type": "code",
   "execution_count": 1,
   "metadata": {},
   "outputs": [],
   "source": [
    "import pyfolio_fork_aprm as pf"
   ]
  },
  {
   "cell_type": "code",
   "execution_count": 2,
   "metadata": {},
   "outputs": [],
   "source": [
    "import utils"
   ]
  },
  {
   "cell_type": "code",
   "execution_count": 3,
   "metadata": {},
   "outputs": [],
   "source": [
    "import empyrical as ep\n",
    "import scipy"
   ]
  },
  {
   "cell_type": "code",
   "execution_count": 17,
   "metadata": {},
   "outputs": [],
   "source": [
    "import pandas as pd\n",
    "import statsmodels.api as sm\n",
    "import seaborn as sns\n",
    "import numpy as np\n",
    "import matplotlib.pyplot as plt\n",
    "%matplotlib inline"
   ]
  },
  {
   "cell_type": "code",
   "execution_count": 178,
   "metadata": {},
   "outputs": [],
   "source": [
    "# old stuff\n",
    "# two_returns = pd.read_excel('../../Econometrics of Financial Markets/returns.xlsx', \n",
    "#                         usecols=[0, 1, 3], \n",
    "#                         index_col=0, \n",
    "#                         parse_dates=[0]).pct_change().dropna()\n",
    "# two_returns.index = two_returns.index.tz_localize('UTC')\n",
    "# returns = two_returns['Disney']\n",
    "# benchmark = two_returns['SP500 (Rm)']"
   ]
  },
  {
   "cell_type": "code",
   "execution_count": 8,
   "metadata": {},
   "outputs": [],
   "source": [
    "returns_df = utils.get_returns_df()"
   ]
  },
  {
   "cell_type": "code",
   "execution_count": 11,
   "metadata": {},
   "outputs": [],
   "source": [
    "rf = utils.get_risk_free_returns_series(returns_df)"
   ]
  },
  {
   "cell_type": "code",
   "execution_count": null,
   "metadata": {},
   "outputs": [],
   "source": [
    "def get_stats_from_fund_obj(fund, returns_df, risk_free_returns):\n",
    "    returns_series = returns_df[fund.name].dropna()\n",
    "    index_returns = returns_df[fund.index_benchmark]\n",
    "    return get_full_perf_stats(returns_series, risk_free_returns, index_returns)"
   ]
  },
  {
   "cell_type": "code",
   "execution_count": 89,
   "metadata": {},
   "outputs": [
    {
     "data": {
      "text/html": [
       "<div>\n",
       "<style scoped>\n",
       "    .dataframe tbody tr th:only-of-type {\n",
       "        vertical-align: middle;\n",
       "    }\n",
       "\n",
       "    .dataframe tbody tr th {\n",
       "        vertical-align: top;\n",
       "    }\n",
       "\n",
       "    .dataframe thead th {\n",
       "        text-align: right;\n",
       "    }\n",
       "</style>\n",
       "<table border=\"1\" class=\"dataframe\">\n",
       "  <thead>\n",
       "    <tr style=\"text-align: right;\">\n",
       "      <th></th>\n",
       "      <th>name</th>\n",
       "      <th>passive_alternative</th>\n",
       "      <th>index_benchmark</th>\n",
       "    </tr>\n",
       "  </thead>\n",
       "  <tbody>\n",
       "    <tr>\n",
       "      <th>0</th>\n",
       "      <td>JFUAX</td>\n",
       "      <td>BWIIX</td>\n",
       "      <td>MXWO</td>\n",
       "    </tr>\n",
       "    <tr>\n",
       "      <th>1</th>\n",
       "      <td>JLCAX</td>\n",
       "      <td>BSPIX</td>\n",
       "      <td>SPX</td>\n",
       "    </tr>\n",
       "    <tr>\n",
       "      <th>2</th>\n",
       "      <td>JDEAX</td>\n",
       "      <td>BSPIX</td>\n",
       "      <td>SPX</td>\n",
       "    </tr>\n",
       "    <tr>\n",
       "      <th>3</th>\n",
       "      <td>OEIAX</td>\n",
       "      <td>MAIIX</td>\n",
       "      <td>MXEA</td>\n",
       "    </tr>\n",
       "    <tr>\n",
       "      <th>4</th>\n",
       "      <td>JFTAX</td>\n",
       "      <td>MAIIX</td>\n",
       "      <td>MXEA</td>\n",
       "    </tr>\n",
       "  </tbody>\n",
       "</table>\n",
       "</div>"
      ],
      "text/plain": [
       "    name passive_alternative index_benchmark\n",
       "0  JFUAX               BWIIX            MXWO\n",
       "1  JLCAX               BSPIX             SPX\n",
       "2  JDEAX               BSPIX             SPX\n",
       "3  OEIAX               MAIIX            MXEA\n",
       "4  JFTAX               MAIIX            MXEA"
      ]
     },
     "execution_count": 89,
     "metadata": {},
     "output_type": "execute_result"
    }
   ],
   "source": [
    "pd.DataFrame(funds)"
   ]
  },
  {
   "cell_type": "code",
   "execution_count": 141,
   "metadata": {},
   "outputs": [],
   "source": [
    "ff = ep.utils.load_portfolio_risk_factors(start=returns_df.index[0], end=returns_df.index[-1])"
   ]
  },
  {
   "cell_type": "code",
   "execution_count": 50,
   "metadata": {},
   "outputs": [],
   "source": [
    "# All measures are calculated using daily returns data, and are not annualised unless explicitly stated"
   ]
  },
  {
   "cell_type": "code",
   "execution_count": 9,
   "metadata": {
    "scrolled": true
   },
   "outputs": [
    {
     "name": "stderr",
     "output_type": "stream",
     "text": [
      "C:\\Users\\Kevin\\Anaconda3\\lib\\site-packages\\numpy\\core\\fromnumeric.py:52: FutureWarning: 'argmin' is deprecated. Use 'idxmin' instead. The behavior of 'argmin' will be corrected to return the positional minimum in the future. Use 'series.values.argmin' to get the position of the minimum now.\n",
      "  return getattr(obj, method)(*args, **kwds)\n"
     ]
    },
    {
     "data": {
      "text/html": [
       "<div>\n",
       "<style scoped>\n",
       "    .dataframe tbody tr th:only-of-type {\n",
       "        vertical-align: middle;\n",
       "    }\n",
       "\n",
       "    .dataframe tbody tr th {\n",
       "        vertical-align: top;\n",
       "    }\n",
       "\n",
       "    .dataframe thead th {\n",
       "        text-align: right;\n",
       "    }\n",
       "</style>\n",
       "<table border=\"1\" class=\"dataframe\">\n",
       "  <thead>\n",
       "    <tr style=\"text-align: right;\">\n",
       "      <th></th>\n",
       "      <th>Net drawdown in %</th>\n",
       "      <th>Peak date</th>\n",
       "      <th>Valley date</th>\n",
       "      <th>Recovery date</th>\n",
       "      <th>Duration</th>\n",
       "    </tr>\n",
       "  </thead>\n",
       "  <tbody>\n",
       "    <tr>\n",
       "      <th>0</th>\n",
       "      <td>16.3242</td>\n",
       "      <td>2017-04-27</td>\n",
       "      <td>2017-10-12</td>\n",
       "      <td>NaT</td>\n",
       "      <td>NaN</td>\n",
       "    </tr>\n",
       "    <tr>\n",
       "      <th>1</th>\n",
       "      <td>2.06649</td>\n",
       "      <td>2017-02-01</td>\n",
       "      <td>2017-02-07</td>\n",
       "      <td>2017-03-13</td>\n",
       "      <td>29</td>\n",
       "    </tr>\n",
       "    <tr>\n",
       "      <th>2</th>\n",
       "      <td>0.949564</td>\n",
       "      <td>2017-04-20</td>\n",
       "      <td>2017-04-24</td>\n",
       "      <td>2017-04-25</td>\n",
       "      <td>4</td>\n",
       "    </tr>\n",
       "    <tr>\n",
       "      <th>3</th>\n",
       "      <td>0.851743</td>\n",
       "      <td>2017-03-20</td>\n",
       "      <td>2017-03-21</td>\n",
       "      <td>2017-03-28</td>\n",
       "      <td>7</td>\n",
       "    </tr>\n",
       "    <tr>\n",
       "      <th>4</th>\n",
       "      <td>0.846635</td>\n",
       "      <td>2017-03-31</td>\n",
       "      <td>2017-04-10</td>\n",
       "      <td>2017-04-17</td>\n",
       "      <td>12</td>\n",
       "    </tr>\n",
       "  </tbody>\n",
       "</table>\n",
       "</div>"
      ],
      "text/plain": [
       "  Net drawdown in %  Peak date Valley date Recovery date Duration\n",
       "0           16.3242 2017-04-27  2017-10-12           NaT      NaN\n",
       "1           2.06649 2017-02-01  2017-02-07    2017-03-13       29\n",
       "2          0.949564 2017-04-20  2017-04-24    2017-04-25        4\n",
       "3          0.851743 2017-03-20  2017-03-21    2017-03-28        7\n",
       "4          0.846635 2017-03-31  2017-04-10    2017-04-17       12"
      ]
     },
     "execution_count": 9,
     "metadata": {},
     "output_type": "execute_result"
    }
   ],
   "source": [
    "pf.timeseries.gen_drawdown_table(returns, top=5)"
   ]
  },
  {
   "cell_type": "code",
   "execution_count": 7,
   "metadata": {},
   "outputs": [
    {
     "name": "stdout",
     "output_type": "stream",
     "text": [
      "0.11028980397350972\n"
     ]
    },
    {
     "data": {
      "text/plain": [
       "0.11028980397350972"
      ]
     },
     "execution_count": 7,
     "metadata": {},
     "output_type": "execute_result"
    }
   ],
   "source": [
    "# check equal to downside risk from empyrical\n",
    "print(np.sqrt(utils.lpm(returns, target_rate=0, order=2)) * np.sqrt(252))\n",
    "downside_risk_annualised = ep.downside_risk(returns)\n",
    "downside_risk_annualised"
   ]
  },
  {
   "cell_type": "code",
   "execution_count": 8,
   "metadata": {},
   "outputs": [
    {
     "data": {
      "text/plain": [
       "0.006570516563209849"
      ]
     },
     "execution_count": 8,
     "metadata": {},
     "output_type": "execute_result"
    }
   ],
   "source": [
    "daily_expected_shortfall = utils.expected_shortfall(returns)\n",
    "daily_expected_shortfall"
   ]
  },
  {
   "cell_type": "code",
   "execution_count": 12,
   "metadata": {
    "scrolled": true
   },
   "outputs": [],
   "source": [
    "from importlib import reload\n",
    "reload(utils)\n",
    "import utils\n",
    "\n",
    "df = utils.get_full_perf_stats_df(returns_df, utils.get_funds_list(), rf)"
   ]
  },
  {
   "cell_type": "code",
   "execution_count": 22,
   "metadata": {},
   "outputs": [
    {
     "name": "stderr",
     "output_type": "stream",
     "text": [
      "C:\\Users\\Kevin\\Anaconda3\\lib\\site-packages\\matplotlib\\axes\\_axes.py:6462: UserWarning: The 'normed' kwarg is deprecated, and has been replaced by the 'density' kwarg.\n",
      "  warnings.warn(\"The 'normed' kwarg is deprecated, and has been \"\n"
     ]
    },
    {
     "data": {
      "text/plain": [
       "<matplotlib.axes._subplots.AxesSubplot at 0x2b56d360da0>"
      ]
     },
     "execution_count": 22,
     "metadata": {},
     "output_type": "execute_result"
    },
    {
     "data": {
      "image/png": "[encoded data removed]",
      "text/plain": [
       "<Figure size 432x288 with 1 Axes>"
      ]
     },
     "metadata": {},
     "output_type": "display_data"
    }
   ],
   "source": [
    "sns.distplot(returns_df['BWIIX'].dropna())\n",
    "sns.distplot(returns_df['BWIIX'].dropna(), kde=False, fit=scipy.stats.norm)"
   ]
  },
  {
   "cell_type": "code",
   "execution_count": 13,
   "metadata": {
    "scrolled": true
   },
   "outputs": [
    {
     "data": {
      "text/html": [
       "<div>\n",
       "<style scoped>\n",
       "    .dataframe tbody tr th:only-of-type {\n",
       "        vertical-align: middle;\n",
       "    }\n",
       "\n",
       "    .dataframe tbody tr th {\n",
       "        vertical-align: top;\n",
       "    }\n",
       "\n",
       "    .dataframe thead th {\n",
       "        text-align: right;\n",
       "    }\n",
       "</style>\n",
       "<table border=\"1\" class=\"dataframe\">\n",
       "  <thead>\n",
       "    <tr style=\"text-align: right;\">\n",
       "      <th></th>\n",
       "      <th>JFUAX</th>\n",
       "      <th>JLCAX</th>\n",
       "      <th>JDEAX</th>\n",
       "      <th>OEIAX</th>\n",
       "      <th>JFTAX</th>\n",
       "      <th>BWIIX</th>\n",
       "      <th>BSPIX</th>\n",
       "      <th>MAIIX</th>\n",
       "    </tr>\n",
       "  </thead>\n",
       "  <tbody>\n",
       "    <tr>\n",
       "      <th>Annual return</th>\n",
       "      <td>5.9%</td>\n",
       "      <td>7.2%</td>\n",
       "      <td>6.6%</td>\n",
       "      <td>6.1%</td>\n",
       "      <td>5.9%</td>\n",
       "      <td>6.8%</td>\n",
       "      <td>8.9%</td>\n",
       "      <td>6.0%</td>\n",
       "    </tr>\n",
       "    <tr>\n",
       "      <th>Cumulative returns</th>\n",
       "      <td>21.2%</td>\n",
       "      <td>26.4%</td>\n",
       "      <td>23.9%</td>\n",
       "      <td>21.9%</td>\n",
       "      <td>21.2%</td>\n",
       "      <td>21.2%</td>\n",
       "      <td>33.5%</td>\n",
       "      <td>21.8%</td>\n",
       "    </tr>\n",
       "    <tr>\n",
       "      <th>Volatility (annualised)</th>\n",
       "      <td>15.1%</td>\n",
       "      <td>14.6%</td>\n",
       "      <td>13.7%</td>\n",
       "      <td>14.5%</td>\n",
       "      <td>14.3%</td>\n",
       "      <td>14.3%</td>\n",
       "      <td>12.8%</td>\n",
       "      <td>14.1%</td>\n",
       "    </tr>\n",
       "    <tr>\n",
       "      <th>Sharpe ratio (annualised)</th>\n",
       "      <td>0.453922</td>\n",
       "      <td>0.547519</td>\n",
       "      <td>0.533205</td>\n",
       "      <td>0.478926</td>\n",
       "      <td>0.471944</td>\n",
       "      <td>0.530037</td>\n",
       "      <td>0.732384</td>\n",
       "      <td>0.48657</td>\n",
       "    </tr>\n",
       "    <tr>\n",
       "      <th>Stability</th>\n",
       "      <td>0.54759</td>\n",
       "      <td>0.700808</td>\n",
       "      <td>0.660156</td>\n",
       "      <td>0.422659</td>\n",
       "      <td>0.389605</td>\n",
       "      <td>0.813784</td>\n",
       "      <td>0.836543</td>\n",
       "      <td>0.401933</td>\n",
       "    </tr>\n",
       "    <tr>\n",
       "      <th>Drawdown</th>\n",
       "      <td>10.4%</td>\n",
       "      <td>11.7%</td>\n",
       "      <td>11.5%</td>\n",
       "      <td>11.4%</td>\n",
       "      <td>11.3%</td>\n",
       "      <td>9.6%</td>\n",
       "      <td>11.1%</td>\n",
       "      <td>10.5%</td>\n",
       "    </tr>\n",
       "    <tr>\n",
       "      <th>Omega ratio (annualised)</th>\n",
       "      <td>1.08767</td>\n",
       "      <td>1.10788</td>\n",
       "      <td>1.10581</td>\n",
       "      <td>1.09364</td>\n",
       "      <td>1.09168</td>\n",
       "      <td>1.11569</td>\n",
       "      <td>1.14841</td>\n",
       "      <td>1.09437</td>\n",
       "    </tr>\n",
       "    <tr>\n",
       "      <th>Sortino ratio (annualised)</th>\n",
       "      <td>0.619164</td>\n",
       "      <td>0.754697</td>\n",
       "      <td>0.73751</td>\n",
       "      <td>0.64354</td>\n",
       "      <td>0.629344</td>\n",
       "      <td>0.747288</td>\n",
       "      <td>1.01849</td>\n",
       "      <td>0.65517</td>\n",
       "    </tr>\n",
       "    <tr>\n",
       "      <th>Skew</th>\n",
       "      <td>-0.778585</td>\n",
       "      <td>-0.644868</td>\n",
       "      <td>-0.585795</td>\n",
       "      <td>-1.51459</td>\n",
       "      <td>-1.59464</td>\n",
       "      <td>0.0611801</td>\n",
       "      <td>-0.630255</td>\n",
       "      <td>-1.36244</td>\n",
       "    </tr>\n",
       "    <tr>\n",
       "      <th>Kurtosis</th>\n",
       "      <td>4.63507</td>\n",
       "      <td>3.87904</td>\n",
       "      <td>3.6811</td>\n",
       "      <td>14.0705</td>\n",
       "      <td>14.3966</td>\n",
       "      <td>19.2716</td>\n",
       "      <td>4.09924</td>\n",
       "      <td>11.7001</td>\n",
       "    </tr>\n",
       "    <tr>\n",
       "      <th>Tail ratio</th>\n",
       "      <td>0.961959</td>\n",
       "      <td>0.985439</td>\n",
       "      <td>0.989674</td>\n",
       "      <td>0.971239</td>\n",
       "      <td>0.937657</td>\n",
       "      <td>0.918808</td>\n",
       "      <td>1.00165</td>\n",
       "      <td>0.991651</td>\n",
       "    </tr>\n",
       "    <tr>\n",
       "      <th>Value at risk</th>\n",
       "      <td>-1.9%</td>\n",
       "      <td>-1.8%</td>\n",
       "      <td>-1.7%</td>\n",
       "      <td>-1.8%</td>\n",
       "      <td>-1.8%</td>\n",
       "      <td>-1.8%</td>\n",
       "      <td>-1.6%</td>\n",
       "      <td>-1.7%</td>\n",
       "    </tr>\n",
       "    <tr>\n",
       "      <th>Alpha (annualised)</th>\n",
       "      <td>-0.0294568</td>\n",
       "      <td>-0.0257558</td>\n",
       "      <td>-0.0272642</td>\n",
       "      <td>0.00996277</td>\n",
       "      <td>0.00898493</td>\n",
       "      <td>0.000340213</td>\n",
       "      <td>-0.000768105</td>\n",
       "      <td>0.0107897</td>\n",
       "    </tr>\n",
       "    <tr>\n",
       "      <th>Beta</th>\n",
       "      <td>1.22231</td>\n",
       "      <td>1.1163</td>\n",
       "      <td>1.05497</td>\n",
       "      <td>0.847093</td>\n",
       "      <td>0.83264</td>\n",
       "      <td>1.0232</td>\n",
       "      <td>0.997652</td>\n",
       "      <td>0.824849</td>\n",
       "    </tr>\n",
       "    <tr>\n",
       "      <th>Burke ratio (annualised)</th>\n",
       "      <td>0.870928</td>\n",
       "      <td>1.00019</td>\n",
       "      <td>0.952286</td>\n",
       "      <td>0.861108</td>\n",
       "      <td>0.856567</td>\n",
       "      <td>1.11151</td>\n",
       "      <td>1.34935</td>\n",
       "      <td>0.900577</td>\n",
       "    </tr>\n",
       "    <tr>\n",
       "      <th>Expected shortfall</th>\n",
       "      <td>0.7%</td>\n",
       "      <td>0.6%</td>\n",
       "      <td>0.6%</td>\n",
       "      <td>0.6%</td>\n",
       "      <td>0.6%</td>\n",
       "      <td>0.5%</td>\n",
       "      <td>0.5%</td>\n",
       "      <td>0.6%</td>\n",
       "    </tr>\n",
       "    <tr>\n",
       "      <th>Information ratio (annualised)</th>\n",
       "      <td>-0.171392</td>\n",
       "      <td>-0.442649</td>\n",
       "      <td>-1.1757</td>\n",
       "      <td>-0.00798699</td>\n",
       "      <td>-0.0293785</td>\n",
       "      <td>0.0248767</td>\n",
       "      <td>-0.258077</td>\n",
       "      <td>-0.0160674</td>\n",
       "    </tr>\n",
       "    <tr>\n",
       "      <th>Kappa 1</th>\n",
       "      <td>-0.0876708</td>\n",
       "      <td>-0.107879</td>\n",
       "      <td>-0.105813</td>\n",
       "      <td>-0.0936427</td>\n",
       "      <td>-0.0916769</td>\n",
       "      <td>-0.11569</td>\n",
       "      <td>-0.148412</td>\n",
       "      <td>-0.0943702</td>\n",
       "    </tr>\n",
       "    <tr>\n",
       "      <th>Kappa 3</th>\n",
       "      <td>-0.0253388</td>\n",
       "      <td>-0.0311584</td>\n",
       "      <td>-0.030569</td>\n",
       "      <td>-0.023852</td>\n",
       "      <td>-0.0233382</td>\n",
       "      <td>-0.0285774</td>\n",
       "      <td>-0.0417532</td>\n",
       "      <td>-0.0247827</td>\n",
       "    </tr>\n",
       "    <tr>\n",
       "      <th>Return on prob. of shortfall (annualised)</th>\n",
       "      <td>14.4%</td>\n",
       "      <td>16.3%</td>\n",
       "      <td>14.8%</td>\n",
       "      <td>14.2%</td>\n",
       "      <td>13.9%</td>\n",
       "      <td>15.3%</td>\n",
       "      <td>19.6%</td>\n",
       "      <td>14.0%</td>\n",
       "    </tr>\n",
       "    <tr>\n",
       "      <th>Return on value at risk</th>\n",
       "      <td>1.7%</td>\n",
       "      <td>2.1%</td>\n",
       "      <td>2.0%</td>\n",
       "      <td>1.9%</td>\n",
       "      <td>1.8%</td>\n",
       "      <td>2.2%</td>\n",
       "      <td>2.8%</td>\n",
       "      <td>1.9%</td>\n",
       "    </tr>\n",
       "    <tr>\n",
       "      <th>Shortfall risk</th>\n",
       "      <td>47.7%</td>\n",
       "      <td>49.2%</td>\n",
       "      <td>49.4%</td>\n",
       "      <td>48.9%</td>\n",
       "      <td>48.3%</td>\n",
       "      <td>49.3%</td>\n",
       "      <td>47.8%</td>\n",
       "      <td>49.1%</td>\n",
       "    </tr>\n",
       "    <tr>\n",
       "      <th>Sterling ratio (annualised)</th>\n",
       "      <td>0.948297</td>\n",
       "      <td>1.09693</td>\n",
       "      <td>1.06473</td>\n",
       "      <td>0.957751</td>\n",
       "      <td>0.957899</td>\n",
       "      <td>1.22371</td>\n",
       "      <td>1.53361</td>\n",
       "      <td>0.997524</td>\n",
       "    </tr>\n",
       "    <tr>\n",
       "      <th>Treynor ratio (annualised)</th>\n",
       "      <td>0.056163</td>\n",
       "      <td>0.071842</td>\n",
       "      <td>0.0690707</td>\n",
       "      <td>0.0818116</td>\n",
       "      <td>0.0808414</td>\n",
       "      <td>0.0738221</td>\n",
       "      <td>0.0941444</td>\n",
       "      <td>0.0831314</td>\n",
       "    </tr>\n",
       "    <tr>\n",
       "      <th>root(lpm(0,2)) (annualised)</th>\n",
       "      <td>0.110873</td>\n",
       "      <td>0.106264</td>\n",
       "      <td>0.0988016</td>\n",
       "      <td>0.107689</td>\n",
       "      <td>0.106955</td>\n",
       "      <td>0.101079</td>\n",
       "      <td>0.0922182</td>\n",
       "      <td>0.104661</td>\n",
       "    </tr>\n",
       "  </tbody>\n",
       "</table>\n",
       "</div>"
      ],
      "text/plain": [
       "                                               JFUAX      JLCAX      JDEAX  \\\n",
       "Annual return                                   5.9%       7.2%       6.6%   \n",
       "Cumulative returns                             21.2%      26.4%      23.9%   \n",
       "Volatility (annualised)                        15.1%      14.6%      13.7%   \n",
       "Sharpe ratio (annualised)                   0.453922   0.547519   0.533205   \n",
       "Stability                                    0.54759   0.700808   0.660156   \n",
       "Drawdown                                       10.4%      11.7%      11.5%   \n",
       "Omega ratio (annualised)                     1.08767    1.10788    1.10581   \n",
       "Sortino ratio (annualised)                  0.619164   0.754697    0.73751   \n",
       "Skew                                       -0.778585  -0.644868  -0.585795   \n",
       "Kurtosis                                     4.63507    3.87904     3.6811   \n",
       "Tail ratio                                  0.961959   0.985439   0.989674   \n",
       "Value at risk                                  -1.9%      -1.8%      -1.7%   \n",
       "Alpha (annualised)                        -0.0294568 -0.0257558 -0.0272642   \n",
       "Beta                                         1.22231     1.1163    1.05497   \n",
       "Burke ratio (annualised)                    0.870928    1.00019   0.952286   \n",
       "Expected shortfall                              0.7%       0.6%       0.6%   \n",
       "Information ratio (annualised)             -0.171392  -0.442649    -1.1757   \n",
       "Kappa 1                                   -0.0876708  -0.107879  -0.105813   \n",
       "Kappa 3                                   -0.0253388 -0.0311584  -0.030569   \n",
       "Return on prob. of shortfall (annualised)      14.4%      16.3%      14.8%   \n",
       "Return on value at risk                         1.7%       2.1%       2.0%   \n",
       "Shortfall risk                                 47.7%      49.2%      49.4%   \n",
       "Sterling ratio (annualised)                 0.948297    1.09693    1.06473   \n",
       "Treynor ratio (annualised)                  0.056163   0.071842  0.0690707   \n",
       "root(lpm(0,2)) (annualised)                 0.110873   0.106264  0.0988016   \n",
       "\n",
       "                                                OEIAX       JFTAX  \\\n",
       "Annual return                                    6.1%        5.9%   \n",
       "Cumulative returns                              21.9%       21.2%   \n",
       "Volatility (annualised)                         14.5%       14.3%   \n",
       "Sharpe ratio (annualised)                    0.478926    0.471944   \n",
       "Stability                                    0.422659    0.389605   \n",
       "Drawdown                                        11.4%       11.3%   \n",
       "Omega ratio (annualised)                      1.09364     1.09168   \n",
       "Sortino ratio (annualised)                    0.64354    0.629344   \n",
       "Skew                                         -1.51459    -1.59464   \n",
       "Kurtosis                                      14.0705     14.3966   \n",
       "Tail ratio                                   0.971239    0.937657   \n",
       "Value at risk                                   -1.8%       -1.8%   \n",
       "Alpha (annualised)                         0.00996277  0.00898493   \n",
       "Beta                                         0.847093     0.83264   \n",
       "Burke ratio (annualised)                     0.861108    0.856567   \n",
       "Expected shortfall                               0.6%        0.6%   \n",
       "Information ratio (annualised)            -0.00798699  -0.0293785   \n",
       "Kappa 1                                    -0.0936427  -0.0916769   \n",
       "Kappa 3                                     -0.023852  -0.0233382   \n",
       "Return on prob. of shortfall (annualised)       14.2%       13.9%   \n",
       "Return on value at risk                          1.9%        1.8%   \n",
       "Shortfall risk                                  48.9%       48.3%   \n",
       "Sterling ratio (annualised)                  0.957751    0.957899   \n",
       "Treynor ratio (annualised)                  0.0818116   0.0808414   \n",
       "root(lpm(0,2)) (annualised)                  0.107689    0.106955   \n",
       "\n",
       "                                                 BWIIX        BSPIX      MAIIX  \n",
       "Annual return                                     6.8%         8.9%       6.0%  \n",
       "Cumulative returns                               21.2%        33.5%      21.8%  \n",
       "Volatility (annualised)                          14.3%        12.8%      14.1%  \n",
       "Sharpe ratio (annualised)                     0.530037     0.732384    0.48657  \n",
       "Stability                                     0.813784     0.836543   0.401933  \n",
       "Drawdown                                          9.6%        11.1%      10.5%  \n",
       "Omega ratio (annualised)                       1.11569      1.14841    1.09437  \n",
       "Sortino ratio (annualised)                    0.747288      1.01849    0.65517  \n",
       "Skew                                         0.0611801    -0.630255   -1.36244  \n",
       "Kurtosis                                       19.2716      4.09924    11.7001  \n",
       "Tail ratio                                    0.918808      1.00165   0.991651  \n",
       "Value at risk                                    -1.8%        -1.6%      -1.7%  \n",
       "Alpha (annualised)                         0.000340213 -0.000768105  0.0107897  \n",
       "Beta                                            1.0232     0.997652   0.824849  \n",
       "Burke ratio (annualised)                       1.11151      1.34935   0.900577  \n",
       "Expected shortfall                                0.5%         0.5%       0.6%  \n",
       "Information ratio (annualised)               0.0248767    -0.258077 -0.0160674  \n",
       "Kappa 1                                       -0.11569    -0.148412 -0.0943702  \n",
       "Kappa 3                                     -0.0285774   -0.0417532 -0.0247827  \n",
       "Return on prob. of shortfall (annualised)        15.3%        19.6%      14.0%  \n",
       "Return on value at risk                           2.2%         2.8%       1.9%  \n",
       "Shortfall risk                                   49.3%        47.8%      49.1%  \n",
       "Sterling ratio (annualised)                    1.22371      1.53361   0.997524  \n",
       "Treynor ratio (annualised)                   0.0738221    0.0941444  0.0831314  \n",
       "root(lpm(0,2)) (annualised)                   0.101079    0.0922182   0.104661  "
      ]
     },
     "execution_count": 13,
     "metadata": {},
     "output_type": "execute_result"
    }
   ],
   "source": [
    "df"
   ]
  },
  {
   "cell_type": "code",
   "execution_count": 14,
   "metadata": {},
   "outputs": [],
   "source": [
    "utils.main()"
   ]
  },
  {
   "cell_type": "code",
   "execution_count": 166,
   "metadata": {},
   "outputs": [],
   "source": [
    "bwiix = utils.get_funds_list()[5]"
   ]
  },
  {
   "cell_type": "code",
   "execution_count": null,
   "metadata": {},
   "outputs": [],
   "source": [
    "ep.stats.kurt"
   ]
  },
  {
   "cell_type": "code",
   "execution_count": 199,
   "metadata": {},
   "outputs": [
    {
     "data": {
      "text/html": [
       "<div>\n",
       "<style scoped>\n",
       "    .dataframe tbody tr th:only-of-type {\n",
       "        vertical-align: middle;\n",
       "    }\n",
       "\n",
       "    .dataframe tbody tr th {\n",
       "        vertical-align: top;\n",
       "    }\n",
       "\n",
       "    .dataframe thead th {\n",
       "        text-align: right;\n",
       "    }\n",
       "</style>\n",
       "<table border=\"1\" class=\"dataframe\">\n",
       "  <thead>\n",
       "    <tr style=\"text-align: right;\">\n",
       "      <th></th>\n",
       "      <th>BWIIX</th>\n",
       "    </tr>\n",
       "  </thead>\n",
       "  <tbody>\n",
       "    <tr>\n",
       "      <th>Annual return</th>\n",
       "      <td>6.8%</td>\n",
       "    </tr>\n",
       "    <tr>\n",
       "      <th>Cumulative returns</th>\n",
       "      <td>21.2%</td>\n",
       "    </tr>\n",
       "    <tr>\n",
       "      <th>Volatility (annualised)</th>\n",
       "      <td>14.3%</td>\n",
       "    </tr>\n",
       "    <tr>\n",
       "      <th>Sharpe ratio (annualised)</th>\n",
       "      <td>0.530037</td>\n",
       "    </tr>\n",
       "    <tr>\n",
       "      <th>Stability</th>\n",
       "      <td>0.813784</td>\n",
       "    </tr>\n",
       "    <tr>\n",
       "      <th>Drawdown</th>\n",
       "      <td>9.6%</td>\n",
       "    </tr>\n",
       "    <tr>\n",
       "      <th>Omega ratio (annualised)</th>\n",
       "      <td>1.11569</td>\n",
       "    </tr>\n",
       "    <tr>\n",
       "      <th>Sortino ratio (annualised)</th>\n",
       "      <td>0.747288</td>\n",
       "    </tr>\n",
       "    <tr>\n",
       "      <th>Skew</th>\n",
       "      <td>0.354188</td>\n",
       "    </tr>\n",
       "    <tr>\n",
       "      <th>Kurtosis</th>\n",
       "      <td>20.9716</td>\n",
       "    </tr>\n",
       "    <tr>\n",
       "      <th>Tail ratio</th>\n",
       "      <td>0.918808</td>\n",
       "    </tr>\n",
       "    <tr>\n",
       "      <th>Value at risk</th>\n",
       "      <td>-1.8%</td>\n",
       "    </tr>\n",
       "    <tr>\n",
       "      <th>Alpha (annualised)</th>\n",
       "      <td>0.000340213</td>\n",
       "    </tr>\n",
       "    <tr>\n",
       "      <th>Beta</th>\n",
       "      <td>1.0232</td>\n",
       "    </tr>\n",
       "    <tr>\n",
       "      <th>Burke ratio (annualised)</th>\n",
       "      <td>1.11151</td>\n",
       "    </tr>\n",
       "    <tr>\n",
       "      <th>Expected shortfall</th>\n",
       "      <td>0.5%</td>\n",
       "    </tr>\n",
       "    <tr>\n",
       "      <th>Information ratio (annualised)</th>\n",
       "      <td>0.0248767</td>\n",
       "    </tr>\n",
       "    <tr>\n",
       "      <th>Kappa 1</th>\n",
       "      <td>-0.11569</td>\n",
       "    </tr>\n",
       "    <tr>\n",
       "      <th>Kappa 3</th>\n",
       "      <td>-0.0285774</td>\n",
       "    </tr>\n",
       "    <tr>\n",
       "      <th>Return on prob. of shortfall (annualised)</th>\n",
       "      <td>15.3%</td>\n",
       "    </tr>\n",
       "    <tr>\n",
       "      <th>Return on value at risk</th>\n",
       "      <td>2.2%</td>\n",
       "    </tr>\n",
       "    <tr>\n",
       "      <th>Shortfall risk</th>\n",
       "      <td>49.3%</td>\n",
       "    </tr>\n",
       "    <tr>\n",
       "      <th>Sterling ratio (annualised)</th>\n",
       "      <td>1.22371</td>\n",
       "    </tr>\n",
       "    <tr>\n",
       "      <th>Treynor ratio (annualised)</th>\n",
       "      <td>0.0738221</td>\n",
       "    </tr>\n",
       "    <tr>\n",
       "      <th>root(lpm(0,2)) (annualised)</th>\n",
       "      <td>0.101079</td>\n",
       "    </tr>\n",
       "  </tbody>\n",
       "</table>\n",
       "</div>"
      ],
      "text/plain": [
       "                                                 BWIIX\n",
       "Annual return                                     6.8%\n",
       "Cumulative returns                               21.2%\n",
       "Volatility (annualised)                          14.3%\n",
       "Sharpe ratio (annualised)                     0.530037\n",
       "Stability                                     0.813784\n",
       "Drawdown                                          9.6%\n",
       "Omega ratio (annualised)                       1.11569\n",
       "Sortino ratio (annualised)                    0.747288\n",
       "Skew                                          0.354188\n",
       "Kurtosis                                       20.9716\n",
       "Tail ratio                                    0.918808\n",
       "Value at risk                                    -1.8%\n",
       "Alpha (annualised)                         0.000340213\n",
       "Beta                                            1.0232\n",
       "Burke ratio (annualised)                       1.11151\n",
       "Expected shortfall                                0.5%\n",
       "Information ratio (annualised)               0.0248767\n",
       "Kappa 1                                       -0.11569\n",
       "Kappa 3                                     -0.0285774\n",
       "Return on prob. of shortfall (annualised)        15.3%\n",
       "Return on value at risk                           2.2%\n",
       "Shortfall risk                                   49.3%\n",
       "Sterling ratio (annualised)                    1.22371\n",
       "Treynor ratio (annualised)                   0.0738221\n",
       "root(lpm(0,2)) (annualised)                   0.101079"
      ]
     },
     "execution_count": 199,
     "metadata": {},
     "output_type": "execute_result"
    }
   ],
   "source": [
    "utils.get_stats_from_fund_obj(bwiix, returns_df, rf)"
   ]
  },
  {
   "cell_type": "code",
   "execution_count": 95,
   "metadata": {
    "scrolled": true
   },
   "outputs": [
    {
     "data": {
      "text/plain": [
       "0.0914294436500368"
      ]
     },
     "execution_count": 95,
     "metadata": {},
     "output_type": "execute_result"
    }
   ],
   "source": [
    "scipy.stats.skew(returns)"
   ]
  },
  {
   "cell_type": "code",
   "execution_count": 65,
   "metadata": {},
   "outputs": [
    {
     "data": {
      "text/plain": [
       "0.15012520798693332"
      ]
     },
     "execution_count": 65,
     "metadata": {},
     "output_type": "execute_result"
    }
   ],
   "source": [
    "ep.sharpe_ratio(returns)"
   ]
  },
  {
   "cell_type": "code",
   "execution_count": 58,
   "metadata": {},
   "outputs": [
    {
     "data": {
      "text/plain": [
       "0.05434583510845725"
      ]
     },
     "execution_count": 58,
     "metadata": {},
     "output_type": "execute_result"
    }
   ],
   "source": [
    "utils.drawdown_alt(returns)"
   ]
  },
  {
   "cell_type": "code",
   "execution_count": 32,
   "metadata": {},
   "outputs": [
    {
     "data": {
      "text/plain": [
       "0.009393791874586466"
      ]
     },
     "execution_count": 32,
     "metadata": {},
     "output_type": "execute_result"
    }
   ],
   "source": [
    "100*returns.mean()"
   ]
  },
  {
   "cell_type": "code",
   "execution_count": 30,
   "metadata": {},
   "outputs": [
    {
     "data": {
      "text/plain": [
       "0.11677844104552411"
      ]
     },
     "execution_count": 30,
     "metadata": {},
     "output_type": "execute_result"
    }
   ],
   "source": [
    "np.sqrt(returns.resample('Y').apply(ep.max_drawdown).pow(2).mean())"
   ]
  },
  {
   "cell_type": "code",
   "execution_count": 28,
   "metadata": {},
   "outputs": [
    {
     "data": {
      "text/plain": [
       "0.0008044114813045376"
      ]
     },
     "execution_count": 28,
     "metadata": {},
     "output_type": "execute_result"
    }
   ],
   "source": [
    "utils.burke_ratio(returns)"
   ]
  },
  {
   "cell_type": "code",
   "execution_count": 10,
   "metadata": {},
   "outputs": [
    {
     "name": "stdout",
     "output_type": "stream",
     "text": [
      "0.21463775137041413\n"
     ]
    },
    {
     "data": {
      "text/plain": [
       "0.21463775137041413"
      ]
     },
     "execution_count": 10,
     "metadata": {},
     "output_type": "execute_result"
    }
   ],
   "source": [
    "print(returns.mean() * 252 / downside_risk_annualised)\n",
    "ep.sortino_ratio(returns)"
   ]
  },
  {
   "cell_type": "code",
   "execution_count": 89,
   "metadata": {
    "scrolled": false
   },
   "outputs": [
    {
     "data": {
      "text/plain": [
       "-0.1632423744213528"
      ]
     },
     "execution_count": 89,
     "metadata": {},
     "output_type": "execute_result"
    }
   ],
   "source": [
    "ep.max_drawdown(returns)"
   ]
  },
  {
   "cell_type": "code",
   "execution_count": 11,
   "metadata": {},
   "outputs": [],
   "source": [
    "historical_5pct_VaR = returns.quantile(0.05)\n",
    "# this matches with empyrical but not with pyfolio, which returns a theoretical VaR by assuming a normal distribution"
   ]
  },
  {
   "cell_type": "code",
   "execution_count": 63,
   "metadata": {},
   "outputs": [
    {
     "data": {
      "text/plain": [
       "Annual return          0.011358\n",
       "Cumulative returns     0.011267\n",
       "Annual volatility      0.157684\n",
       "Sharpe ratio           0.150125\n",
       "Calmar ratio           0.069578\n",
       "Stability              0.210795\n",
       "Max drawdown          -0.163242\n",
       "Omega ratio            1.027924\n",
       "Sortino ratio          0.214638\n",
       "Skew                   0.091982\n",
       "Kurtosis               4.805310\n",
       "Tail ratio             0.869223\n",
       "Daily value at risk   -0.019772\n",
       "Alpha                 -0.120648\n",
       "Beta                   0.614065\n",
       "dtype: float64"
      ]
     },
     "execution_count": 63,
     "metadata": {},
     "output_type": "execute_result"
    }
   ],
   "source": [
    "pf.timeseries.perf_stats(returns, factor_returns=benchmark)"
   ]
  },
  {
   "cell_type": "code",
   "execution_count": 141,
   "metadata": {},
   "outputs": [
    {
     "data": {
      "text/plain": [
       "-0.01566418126230057"
      ]
     },
     "execution_count": 141,
     "metadata": {},
     "output_type": "execute_result"
    }
   ],
   "source": [
    "ep.value_at_risk(returns)"
   ]
  },
  {
   "cell_type": "code",
   "execution_count": 71,
   "metadata": {},
   "outputs": [
    {
     "data": {
      "text/plain": [
       "5.434583510845725"
      ]
     },
     "execution_count": 71,
     "metadata": {},
     "output_type": "execute_result"
    }
   ],
   "source": [
    "Drawdown(returns.add(1).cumprod())"
   ]
  },
  {
   "cell_type": "code",
   "execution_count": 13,
   "metadata": {},
   "outputs": [
    {
     "name": "stdout",
     "output_type": "stream",
     "text": [
      "0.15012520798693332\n"
     ]
    },
    {
     "data": {
      "text/plain": [
       "0.15012520798693332"
      ]
     },
     "execution_count": 13,
     "metadata": {},
     "output_type": "execute_result"
    }
   ],
   "source": [
    "print((returns.mean() / returns.std()) * np.sqrt(252))\n",
    "ep.sharpe_ratio(returns)"
   ]
  },
  {
   "cell_type": "markdown",
   "metadata": {},
   "source": [
    "Note: we use sample variance (and sample kurtosis etc) because we are trying to estimate the true variance which is unknown"
   ]
  },
  {
   "cell_type": "code",
   "execution_count": 92,
   "metadata": {
    "scrolled": true
   },
   "outputs": [
    {
     "name": "stderr",
     "output_type": "stream",
     "text": [
      "C:\\Users\\Kevin\\Anaconda3\\lib\\site-packages\\numpy\\core\\fromnumeric.py:52: FutureWarning: 'argmin' is deprecated. Use 'idxmin' instead. The behavior of 'argmin' will be corrected to return the positional minimum in the future. Use 'series.values.argmin' to get the position of the minimum now.\n",
      "  return getattr(obj, method)(*args, **kwds)\n"
     ]
    },
    {
     "data": {
      "text/html": [
       "<div>\n",
       "<style scoped>\n",
       "    .dataframe tbody tr th:only-of-type {\n",
       "        vertical-align: middle;\n",
       "    }\n",
       "\n",
       "    .dataframe tbody tr th {\n",
       "        vertical-align: top;\n",
       "    }\n",
       "\n",
       "    .dataframe thead th {\n",
       "        text-align: right;\n",
       "    }\n",
       "</style>\n",
       "<table border=\"1\" class=\"dataframe\">\n",
       "  <thead>\n",
       "    <tr style=\"text-align: right;\">\n",
       "      <th>Worst drawdown periods</th>\n",
       "      <th>Net drawdown in %</th>\n",
       "      <th>Peak date</th>\n",
       "      <th>Valley date</th>\n",
       "      <th>Recovery date</th>\n",
       "      <th>Duration</th>\n",
       "    </tr>\n",
       "  </thead>\n",
       "  <tbody>\n",
       "    <tr>\n",
       "      <th>0</th>\n",
       "      <td>16.32</td>\n",
       "      <td>2017-04-27</td>\n",
       "      <td>2017-10-12</td>\n",
       "      <td>NaT</td>\n",
       "      <td>NaN</td>\n",
       "    </tr>\n",
       "    <tr>\n",
       "      <th>1</th>\n",
       "      <td>2.07</td>\n",
       "      <td>2017-02-01</td>\n",
       "      <td>2017-02-07</td>\n",
       "      <td>2017-03-13</td>\n",
       "      <td>29</td>\n",
       "    </tr>\n",
       "    <tr>\n",
       "      <th>2</th>\n",
       "      <td>0.95</td>\n",
       "      <td>2017-04-20</td>\n",
       "      <td>2017-04-24</td>\n",
       "      <td>2017-04-25</td>\n",
       "      <td>4</td>\n",
       "    </tr>\n",
       "    <tr>\n",
       "      <th>3</th>\n",
       "      <td>0.85</td>\n",
       "      <td>2017-03-20</td>\n",
       "      <td>2017-03-21</td>\n",
       "      <td>2017-03-28</td>\n",
       "      <td>7</td>\n",
       "    </tr>\n",
       "    <tr>\n",
       "      <th>4</th>\n",
       "      <td>0.85</td>\n",
       "      <td>2017-03-31</td>\n",
       "      <td>2017-04-10</td>\n",
       "      <td>2017-04-17</td>\n",
       "      <td>12</td>\n",
       "    </tr>\n",
       "  </tbody>\n",
       "</table>\n",
       "</div>"
      ],
      "text/plain": [
       "Worst drawdown periods Net drawdown in %  Peak date Valley date Recovery date  \\\n",
       "0                                  16.32 2017-04-27  2017-10-12           NaT   \n",
       "1                                   2.07 2017-02-01  2017-02-07    2017-03-13   \n",
       "2                                   0.95 2017-04-20  2017-04-24    2017-04-25   \n",
       "3                                   0.85 2017-03-20  2017-03-21    2017-03-28   \n",
       "4                                   0.85 2017-03-31  2017-04-10    2017-04-17   \n",
       "\n",
       "Worst drawdown periods Duration  \n",
       "0                           NaN  \n",
       "1                            29  \n",
       "2                             4  \n",
       "3                             7  \n",
       "4                            12  "
      ]
     },
     "metadata": {},
     "output_type": "display_data"
    }
   ],
   "source": [
    "pf.plotting.show_worst_drawdown_periods(returns)"
   ]
  },
  {
   "cell_type": "code",
   "execution_count": 15,
   "metadata": {},
   "outputs": [],
   "source": [
    "#perf.to_excel('test.xlsx', float_format='%0.2f')"
   ]
  },
  {
   "cell_type": "code",
   "execution_count": 198,
   "metadata": {},
   "outputs": [
    {
     "data": {
      "text/plain": [
       "<matplotlib.axes._subplots.AxesSubplot at 0x1bd5eab9828>"
      ]
     },
     "execution_count": 198,
     "metadata": {},
     "output_type": "execute_result"
    },
    {
     "data": {
      "image/png": "[encoded data removed]",
      "text/plain": [
       "<Figure size 432x288 with 1 Axes>"
      ]
     },
     "metadata": {},
     "output_type": "display_data"
    }
   ],
   "source": [
    "fig, ax = plt.subplots()\n",
    "ax.set_title('test')\n",
    "pf.plotting.plot_rolling_returns(returns_df['JDEAX'], returns_df['SPX'], backtest_label_replacement='JDEAX', ax=ax)"
   ]
  },
  {
   "cell_type": "code",
   "execution_count": 17,
   "metadata": {},
   "outputs": [
    {
     "data": {
      "image/png": "[encoded data removed]",
      "text/plain": [
       "<Figure size 432x288 with 1 Axes>"
      ]
     },
     "execution_count": 17,
     "metadata": {},
     "output_type": "execute_result"
    }
   ],
   "source": [
    "fig"
   ]
  },
  {
   "cell_type": "code",
   "execution_count": 196,
   "metadata": {},
   "outputs": [
    {
     "data": {
      "text/plain": [
       "1.0549715982506067"
      ]
     },
     "execution_count": 196,
     "metadata": {},
     "output_type": "execute_result"
    }
   ],
   "source": [
    "ep.beta(returns_df['JDEAX'], returns_df['SPX'])"
   ]
  },
  {
   "cell_type": "code",
   "execution_count": 18,
   "metadata": {},
   "outputs": [],
   "source": [
    "# skip volatility matching\n",
    "#pf.plotting.plot_rolling_returns(returns, benchmark, volatility_match=True)"
   ]
  },
  {
   "cell_type": "code",
   "execution_count": 19,
   "metadata": {},
   "outputs": [],
   "source": [
    "# skip plot of returns - who cares?\n",
    "# pf.plotting.plot_returns(returns)"
   ]
  },
  {
   "cell_type": "code",
   "execution_count": 197,
   "metadata": {
    "scrolled": true
   },
   "outputs": [
    {
     "data": {
      "text/plain": [
       "<matplotlib.axes._subplots.AxesSubplot at 0x1bd5ee2b8d0>"
      ]
     },
     "execution_count": 197,
     "metadata": {},
     "output_type": "execute_result"
    },
    {
     "data": {
      "image/png": "[encoded data removed]",
      "text/plain": [
       "<Figure size 432x288 with 1 Axes>"
      ]
     },
     "metadata": {},
     "output_type": "display_data"
    }
   ],
   "source": [
    "pf.plotting.plot_rolling_beta(returns_df['JDEAX'], \n",
    "                              returns_df[jdeax.index_benchmark], title='Rolling beta to {}'.format(jdeax.index_benchmark))"
   ]
  },
  {
   "cell_type": "code",
   "execution_count": 24,
   "metadata": {
    "scrolled": true
   },
   "outputs": [
    {
     "data": {
      "text/plain": [
       "<matplotlib.axes._subplots.AxesSubplot at 0x235e45e7518>"
      ]
     },
     "execution_count": 24,
     "metadata": {},
     "output_type": "execute_result"
    },
    {
     "data": {
      "image/png": "[encoded data removed]",
      "text/plain": [
       "<Figure size 432x288 with 1 Axes>"
      ]
     },
     "metadata": {},
     "output_type": "display_data"
    }
   ],
   "source": [
    "pf.plotting.plot_rolling_volatility(returns, benchmark)"
   ]
  },
  {
   "cell_type": "code",
   "execution_count": 189,
   "metadata": {
    "scrolled": true
   },
   "outputs": [
    {
     "data": {
      "text/plain": [
       "<matplotlib.axes._subplots.AxesSubplot at 0x1bd5e6ab320>"
      ]
     },
     "execution_count": 189,
     "metadata": {},
     "output_type": "execute_result"
    },
    {
     "data": {
      "image/png": "[encoded data removed]",
      "text/plain": [
       "<Figure size 432x288 with 1 Axes>"
      ]
     },
     "metadata": {},
     "output_type": "display_data"
    }
   ],
   "source": [
    "pf.plotting.plot_rolling_sharpe(returns_df['JDEAX'])"
   ]
  },
  {
   "cell_type": "code",
   "execution_count": 188,
   "metadata": {
    "scrolled": false
   },
   "outputs": [
    {
     "data": {
      "text/plain": [
       "<matplotlib.axes._subplots.AxesSubplot at 0x1bd5d53db00>"
      ]
     },
     "execution_count": 188,
     "metadata": {},
     "output_type": "execute_result"
    },
    {
     "data": {
      "image/png": "[encoded data removed]",
      "text/plain": [
       "<Figure size 432x288 with 1 Axes>"
      ]
     },
     "metadata": {},
     "output_type": "display_data"
    }
   ],
   "source": [
    "pf.plotting.plot_rolling_fama_french(returns)"
   ]
  },
  {
   "cell_type": "code",
   "execution_count": 186,
   "metadata": {},
   "outputs": [
    {
     "data": {
      "text/plain": [
       "<matplotlib.axes._subplots.AxesSubplot at 0x1bd5d4bc208>"
      ]
     },
     "execution_count": 186,
     "metadata": {},
     "output_type": "execute_result"
    },
    {
     "data": {
      "image/png": "[encoded data removed]",
      "text/plain": [
       "<Figure size 432x288 with 1 Axes>"
      ]
     },
     "metadata": {},
     "output_type": "display_data"
    }
   ],
   "source": [
    "pf.plotting.plot_drawdown_underwater(returns_df['JDEAX'])"
   ]
  },
  {
   "cell_type": "code",
   "execution_count": 181,
   "metadata": {},
   "outputs": [
    {
     "data": {
      "text/plain": [
       "<matplotlib.axes._subplots.AxesSubplot at 0x1bd4c1c1390>"
      ]
     },
     "execution_count": 181,
     "metadata": {},
     "output_type": "execute_result"
    },
    {
     "data": {
      "image/png": "[encoded data removed]",
      "text/plain": [
       "<Figure size 432x288 with 1 Axes>"
      ]
     },
     "metadata": {},
     "output_type": "display_data"
    }
   ],
   "source": [
    "pf.plotting.plot_monthly_returns_heatmap(returns_df['JDEAX'])"
   ]
  },
  {
   "cell_type": "code",
   "execution_count": 183,
   "metadata": {},
   "outputs": [
    {
     "data": {
      "text/plain": [
       "<matplotlib.axes._subplots.AxesSubplot at 0x1bd5d4089e8>"
      ]
     },
     "execution_count": 183,
     "metadata": {},
     "output_type": "execute_result"
    },
    {
     "data": {
      "image/png": "[encoded data removed]",
      "text/plain": [
       "<Figure size 432x288 with 1 Axes>"
      ]
     },
     "metadata": {},
     "output_type": "display_data"
    }
   ],
   "source": [
    "pf.plotting.plot_annual_returns(returns_df['JDEAX'])"
   ]
  },
  {
   "cell_type": "code",
   "execution_count": 184,
   "metadata": {},
   "outputs": [
    {
     "data": {
      "text/plain": [
       "<matplotlib.axes._subplots.AxesSubplot at 0x1bd4c35e0b8>"
      ]
     },
     "execution_count": 184,
     "metadata": {},
     "output_type": "execute_result"
    },
    {
     "data": {
      "image/png": "[encoded data removed]",
      "text/plain": [
       "<Figure size 432x288 with 1 Axes>"
      ]
     },
     "metadata": {},
     "output_type": "display_data"
    }
   ],
   "source": [
    "pf.plotting.plot_monthly_returns_dist(returns_df['JDEAX'])"
   ]
  },
  {
   "cell_type": "code",
   "execution_count": 185,
   "metadata": {},
   "outputs": [
    {
     "data": {
      "text/plain": [
       "<matplotlib.axes._subplots.AxesSubplot at 0x1bd5d3e9240>"
      ]
     },
     "execution_count": 185,
     "metadata": {},
     "output_type": "execute_result"
    },
    {
     "data": {
      "image/png": "[encoded data removed]",
      "text/plain": [
       "<Figure size 432x288 with 1 Axes>"
      ]
     },
     "metadata": {},
     "output_type": "display_data"
    }
   ],
   "source": [
    "pf.plotting.plot_return_quantiles(returns_df['JDEAX'])"
   ]
  },
  {
   "cell_type": "code",
   "execution_count": 177,
   "metadata": {
    "scrolled": true
   },
   "outputs": [],
   "source": [
    "#x = pf.create_returns_tear_sheet(returns, benchmark_rets=benchmark, live_start_date=returns.index[-1], return_fig=True)"
   ]
  },
  {
   "cell_type": "code",
   "execution_count": null,
   "metadata": {},
   "outputs": [],
   "source": []
  }
 ],
 "metadata": {
  "kernelspec": {
   "display_name": "Python 3",
   "language": "python",
   "name": "python3"
  },
  "language_info": {
   "codemirror_mode": {
    "name": "ipython",
    "version": 3
   },
   "file_extension": ".py",
   "mimetype": "text/x-python",
   "name": "python",
   "nbconvert_exporter": "python",
   "pygments_lexer": "ipython3",
   "version": "3.6.4"
  },
  "toc": {
   "nav_menu": {},
   "number_sections": false,
   "sideBar": true,
   "skip_h1_title": false,
   "title_cell": "Table of Contents",
   "title_sidebar": "Contents",
   "toc_cell": false,
   "toc_position": {},
   "toc_section_display": true,
   "toc_window_display": false
  }
 },
 "nbformat": 4,
 "nbformat_minor": 2
}
